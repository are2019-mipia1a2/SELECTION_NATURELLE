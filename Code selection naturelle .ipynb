{
 "cells": [
  {
   "cell_type": "code",
   "execution_count": 1317,
   "metadata": {},
   "outputs": [
    {
     "data": {
      "text/plain": [
       "[[2, 'C', 'A'],\n",
       " [7, 'A', 'B'],\n",
       " [7, 'B', 'C'],\n",
       " [3, 'B', 'C'],\n",
       " [3, 'A', 'A'],\n",
       " [8, 'C', 'C'],\n",
       " [2, 'A', 'B'],\n",
       " [3, 'A', 'A'],\n",
       " [6, 'B', 'A'],\n",
       " [7, 'A', 'C'],\n",
       " [5, 'B', 'A'],\n",
       " [8, 'A', 'C'],\n",
       " [2, 'B', 'B'],\n",
       " [4, 'A', 'B'],\n",
       " [8, 'C', 'B'],\n",
       " [4, 'A', 'A'],\n",
       " [4, 'C', 'C'],\n",
       " [7, 'C', 'B'],\n",
       " [3, 'A', 'C'],\n",
       " [0, 'B', 'C'],\n",
       " [4, 'A', 'C'],\n",
       " [5, 'A', 'B'],\n",
       " [6, 'C', 'B'],\n",
       " [4, 'B', 'A'],\n",
       " [6, 'A', 'A'],\n",
       " [5, 'A', 'B'],\n",
       " [4, 'B', 'B'],\n",
       " [4, 'C', 'C'],\n",
       " [9, 'B', 'A'],\n",
       " [8, 'B', 'A'],\n",
       " [0, 'C', 'C'],\n",
       " [5, 'B', 'C'],\n",
       " [10, 'A', 'C'],\n",
       " [6, 'A', 'A'],\n",
       " [1, 'C', 'A'],\n",
       " [2, 'B', 'B'],\n",
       " [7, 'B', 'A'],\n",
       " [10, 'B', 'C'],\n",
       " [10, 'B', 'C'],\n",
       " [10, 'B', 'C'],\n",
       " [9, 'A', 'C'],\n",
       " [6, 'A', 'B'],\n",
       " [2, 'C', 'B'],\n",
       " [0, 'B', 'B'],\n",
       " [3, 'A', 'A'],\n",
       " [1, 'B', 'B'],\n",
       " [0, 'C', 'B'],\n",
       " [2, 'B', 'B'],\n",
       " [9, 'B', 'A'],\n",
       " [9, 'A', 'B']]"
      ]
     },
     "execution_count": 1317,
     "metadata": {},
     "output_type": "execute_result"
    }
   ],
   "source": [
    "from random import *  \n",
    "\n",
    "import matplotlib.pyplot as plt\n",
    "import numpy as np\n",
    "from matplotlib import animation\n",
    "\n",
    "Code_genetique = ['A','B','C']\n",
    "\n",
    "Dominant = {'C':[('A','recessif'),('B','recessif'),('C','dominant')],'A':[('A','dominant'),('B','neutre'),('C','dominant')],'B':[('B','dominant'),('A','neutre'),('C','dominant')]}\n",
    "\n",
    "def population_initiale(Code_genetique,Esperence_vie,nb):\n",
    "    \n",
    "    pop=[]\n",
    "    for i in range(nb):\n",
    "        pop.append([randint(0,Esperence_vie),choice(Code_genetique),choice(Code_genetique)])\n",
    "    \n",
    "    return pop\n",
    "    \n",
    "pop=population_initiale(Code_genetique,10,50)\n",
    "population_initiale(Code_genetique,10,50)"
   ]
  },
  {
   "cell_type": "code",
   "execution_count": 1318,
   "metadata": {},
   "outputs": [
    {
     "data": {
      "text/plain": [
       "'AB'"
      ]
     },
     "execution_count": 1318,
     "metadata": {},
     "output_type": "execute_result"
    }
   ],
   "source": [
    "individu=[7, 'A', 'B']\n",
    "\n",
    "def dominants(individu,Dominant):\n",
    "    allele1=individu[1]\n",
    "    allele2=individu[2]\n",
    "    for i in Dominant[allele1]:\n",
    "        allele,prio=i\n",
    "        if allele==allele2:\n",
    "            if prio=='dominant':\n",
    "                return allele1\n",
    "            elif prio=='recessif':\n",
    "                return allele2\n",
    "            else:\n",
    "                if allele1==allele2:\n",
    "                    return allele1\n",
    "                elif allele1<allele2:\n",
    "                    return allele1 + allele2\n",
    "                else : \n",
    "                    return allele2 + allele1\n",
    "\n",
    "dominants(individu,Dominant)\n"
   ]
  },
  {
   "cell_type": "code",
   "execution_count": 1319,
   "metadata": {},
   "outputs": [],
   "source": [
    "p_gene = {'A':0.2,'B':0.1,'C':0.2,'AB':0.1}\n",
    "p_age = {0:0.5,1:0.4,2:0.3,3:0.2,4:0.1,5:0.2,6:0.4,7:0.6,8:0.8,9:1,10:1,11:1,12:1,13:1.2,14:1.4,15:1.5,16:2.0}\n",
    "\n",
    "def survie(p_gene,p_age,p):\n",
    "    i=0\n",
    "    while i<len(pop):\n",
    "        age=pop[i][0]\n",
    "        gene=dominants(pop[i],Dominant)\n",
    "        if (p_age[age]+p_gene[gene])/2>random():\n",
    "            del pop[i]\n",
    "        else:\n",
    "            i=i+1\n",
    "    return pop\n"
   ]
  },
  {
   "cell_type": "code",
   "execution_count": 1320,
   "metadata": {},
   "outputs": [],
   "source": [
    "Ind1 = [5, 'B', 'A']\n",
    "Ind2 = [9, 'A', 'C']\n",
    "\n",
    "def caracteristque_enfant(ind1,ind2):\n",
    "    if randint(0,1000)==27:\n",
    "        mutation(Code_genetique,Dominant)\n",
    "        return[0,choice(ind1[1:3]),Code_genetique[-1]]\n",
    "    return[0,choice(ind1[1:3]),choice(ind2[1:3])]\n",
    "\n",
    "#caracteristque_enfant(Ind1,Ind2)\n",
    "\n",
    "\n"
   ]
  },
  {
   "cell_type": "code",
   "execution_count": 1321,
   "metadata": {},
   "outputs": [],
   "source": [
    "p_descendant = {0 : 0.05,\n",
    "     1 : 0.05,\n",
    "     2 : 0.05,\n",
    "     3 : 0.15,\n",
    "     4 : 0.2,\n",
    "     5 : 0.25,\n",
    "     6 : 0.3}\n",
    "\n",
    "def nombre_de_descendant(p):\n",
    "    j=random()\n",
    "    k=0\n",
    "    \n",
    "    for i in p_descendant.keys():\n",
    "        k+=p_descendant[i]\n",
    "        if j <= k:\n",
    "            return i"
   ]
  },
  {
   "cell_type": "code",
   "execution_count": 1322,
   "metadata": {},
   "outputs": [
    {
     "data": {
      "text/plain": [
       "[[2, 'A', 'C'],\n",
       " [0, 'A', 'A'],\n",
       " [2, 'A', 'B'],\n",
       " [2, 'C', 'A'],\n",
       " [0, 'C', 'C'],\n",
       " [1, 'C', 'A'],\n",
       " [0, 'C', 'A'],\n",
       " [0, 'C', 'C'],\n",
       " [1, 'C', 'C'],\n",
       " [2, 'C', 'A'],\n",
       " [0, 'A', 'C'],\n",
       " [0, 'A', 'B'],\n",
       " [0, 'C', 'C'],\n",
       " [0, 'A', 'C'],\n",
       " [0, 'C', 'C'],\n",
       " [0, 'A', 'C'],\n",
       " [7, 'A', 'C'],\n",
       " [6, 'C', 'B'],\n",
       " [0, 'C', 'C'],\n",
       " [0, 'C', 'C'],\n",
       " [0, 'C', 'C'],\n",
       " [0, 'C', 'A'],\n",
       " [0, 'C', 'A'],\n",
       " [4, 'C', 'C'],\n",
       " [9, 'C', 'A'],\n",
       " [0, 'C', 'B'],\n",
       " [0, 'C', 'B'],\n",
       " [0, 'B', 'B'],\n",
       " [4, 'C', 'B'],\n",
       " [8, 'B', 'B'],\n",
       " [0, 'B', 'B'],\n",
       " [10, 'B', 'B'],\n",
       " [8, 'B', 'C'],\n",
       " [0, 'A', 'C'],\n",
       " [0, 'B', 'C'],\n",
       " [0, 'A', 'C'],\n",
       " [0, 'A', 'C'],\n",
       " [0, 'A', 'C'],\n",
       " [4, 'A', 'B'],\n",
       " [4, 'C', 'C'],\n",
       " [0, 'A', 'A'],\n",
       " [0, 'B', 'A'],\n",
       " [0, 'A', 'A'],\n",
       " [0, 'B', 'B'],\n",
       " [4, 'A', 'B'],\n",
       " [5, 'A', 'B'],\n",
       " [0, 'C', 'A'],\n",
       " [0, 'A', 'B'],\n",
       " [0, 'A', 'B'],\n",
       " [7, 'A', 'C'],\n",
       " [8, 'B', 'A'],\n",
       " [10, 'C', 'B'],\n",
       " [3, 'A', 'C'],\n",
       " [0, 'B', 'C'],\n",
       " [0, 'B', 'C'],\n",
       " [0, 'B', 'C'],\n",
       " [0, 'B', 'C'],\n",
       " [8, 'B', 'B'],\n",
       " [6, 'C', 'C'],\n",
       " [0, 'A', 'C'],\n",
       " [0, 'A', 'C'],\n",
       " [0, 'C', 'C'],\n",
       " [0, 'C', 'C'],\n",
       " [0, 'A', 'C'],\n",
       " [3, 'A', 'C'],\n",
       " [4, 'C', 'C']]"
      ]
     },
     "execution_count": 1322,
     "metadata": {},
     "output_type": "execute_result"
    }
   ],
   "source": [
    "def new_pop(pop):\n",
    "    pop=survie(p_gene,p_age,pop)\n",
    "    new_pop1=[]\n",
    "    i=0\n",
    "    while i<len(pop):\n",
    "        if pop[i][0]<=2:\n",
    "            new_pop1.append(pop[i])\n",
    "            del pop[i]\n",
    "        else:\n",
    "            i=i+1\n",
    "            \n",
    "    while len(pop)>2:\n",
    "        a=0\n",
    "        b=0\n",
    "        while a==b:\n",
    "            a=randint(0,len(pop)-1)\n",
    "            b=randint(0,len(pop)-1)\n",
    "        for j in range(nombre_de_descendant(p_descendant)):\n",
    "            new_pop1.append(caracteristque_enfant(pop[a],pop[b]))\n",
    "        new_pop1.append(pop[a])\n",
    "        new_pop1.append(pop[b])\n",
    "        del pop[a]\n",
    "        if a<b:\n",
    "            del pop[b-1]\n",
    "        else:\n",
    "            del pop[b]\n",
    "    \n",
    "    return new_pop1\n",
    "new_pop(pop)"
   ]
  },
  {
   "cell_type": "code",
   "execution_count": 1323,
   "metadata": {},
   "outputs": [
    {
     "data": {
      "text/plain": [
       "{}"
      ]
     },
     "execution_count": 1323,
     "metadata": {},
     "output_type": "execute_result"
    }
   ],
   "source": [
    "def genes_graph(pop2):\n",
    "    \n",
    "    D1=dict()\n",
    "    for i in pop2:\n",
    "        if dominants(i,Dominant) not in D1:\n",
    "            D1[dominants(i,Dominant)] = 1\n",
    "\n",
    "        else:\n",
    "            D1[dominants(i,Dominant)] = D1[dominants(i,Dominant)] + 1\n",
    "    return D1\n",
    "\n",
    "genes_graph(new_pop(pop))"
   ]
  },
  {
   "cell_type": "code",
   "execution_count": 1324,
   "metadata": {},
   "outputs": [
    {
     "name": "stdout",
     "output_type": "stream",
     "text": [
      "{}\n"
     ]
    },
    {
     "ename": "ValueError",
     "evalue": "shape mismatch: objects cannot be broadcast to a single shape",
     "output_type": "error",
     "traceback": [
      "\u001b[0;31m---------------------------------------------------------------------------\u001b[0m",
      "\u001b[0;31mValueError\u001b[0m                                Traceback (most recent call last)",
      "\u001b[0;32m<ipython-input-1324-bfe3d695c04b>\u001b[0m in \u001b[0;36m<module>\u001b[0;34m\u001b[0m\n\u001b[1;32m     14\u001b[0m \u001b[0mprint\u001b[0m\u001b[0;34m(\u001b[0m\u001b[0mD\u001b[0m\u001b[0;34m)\u001b[0m\u001b[0;34m\u001b[0m\u001b[0;34m\u001b[0m\u001b[0m\n\u001b[1;32m     15\u001b[0m \u001b[0;34m\u001b[0m\u001b[0m\n\u001b[0;32m---> 16\u001b[0;31m \u001b[0maxes\u001b[0m\u001b[0;34m.\u001b[0m\u001b[0mbar\u001b[0m\u001b[0;34m(\u001b[0m\u001b[0;34m[\u001b[0m\u001b[0mi\u001b[0m \u001b[0;32mfor\u001b[0m \u001b[0mi\u001b[0m \u001b[0;32min\u001b[0m \u001b[0mD\u001b[0m\u001b[0;34m]\u001b[0m\u001b[0;34m,\u001b[0m\u001b[0mL\u001b[0m\u001b[0;34m,\u001b[0m\u001b[0mwidth\u001b[0m\u001b[0;34m=\u001b[0m\u001b[0;36m0.5\u001b[0m\u001b[0;34m)\u001b[0m\u001b[0;34m\u001b[0m\u001b[0;34m\u001b[0m\u001b[0m\n\u001b[0m\u001b[1;32m     17\u001b[0m \u001b[0maxes\u001b[0m\u001b[0;34m.\u001b[0m\u001b[0mset_title\u001b[0m\u001b[0;34m(\u001b[0m\u001b[0;34m\"update populations with migrations\"\u001b[0m\u001b[0;34m)\u001b[0m\u001b[0;34m\u001b[0m\u001b[0;34m\u001b[0m\u001b[0m\n\u001b[1;32m     18\u001b[0m \u001b[0maxes\u001b[0m\u001b[0;34m.\u001b[0m\u001b[0mset_ylim\u001b[0m\u001b[0;34m(\u001b[0m\u001b[0;34m(\u001b[0m\u001b[0;36m0\u001b[0m\u001b[0;34m,\u001b[0m \u001b[0;36m1000\u001b[0m\u001b[0;34m)\u001b[0m\u001b[0;34m)\u001b[0m\u001b[0;34m;\u001b[0m\u001b[0;34m\u001b[0m\u001b[0;34m\u001b[0m\u001b[0m\n",
      "\u001b[0;32m~/anaconda3/lib/python3.7/site-packages/matplotlib/__init__.py\u001b[0m in \u001b[0;36minner\u001b[0;34m(ax, data, *args, **kwargs)\u001b[0m\n\u001b[1;32m   1808\u001b[0m                         \u001b[0;34m\"the Matplotlib list!)\"\u001b[0m \u001b[0;34m%\u001b[0m \u001b[0;34m(\u001b[0m\u001b[0mlabel_namer\u001b[0m\u001b[0;34m,\u001b[0m \u001b[0mfunc\u001b[0m\u001b[0;34m.\u001b[0m\u001b[0m__name__\u001b[0m\u001b[0;34m)\u001b[0m\u001b[0;34m,\u001b[0m\u001b[0;34m\u001b[0m\u001b[0;34m\u001b[0m\u001b[0m\n\u001b[1;32m   1809\u001b[0m                         RuntimeWarning, stacklevel=2)\n\u001b[0;32m-> 1810\u001b[0;31m             \u001b[0;32mreturn\u001b[0m \u001b[0mfunc\u001b[0m\u001b[0;34m(\u001b[0m\u001b[0max\u001b[0m\u001b[0;34m,\u001b[0m \u001b[0;34m*\u001b[0m\u001b[0margs\u001b[0m\u001b[0;34m,\u001b[0m \u001b[0;34m**\u001b[0m\u001b[0mkwargs\u001b[0m\u001b[0;34m)\u001b[0m\u001b[0;34m\u001b[0m\u001b[0;34m\u001b[0m\u001b[0m\n\u001b[0m\u001b[1;32m   1811\u001b[0m \u001b[0;34m\u001b[0m\u001b[0m\n\u001b[1;32m   1812\u001b[0m         inner.__doc__ = _add_data_doc(inner.__doc__,\n",
      "\u001b[0;32m~/anaconda3/lib/python3.7/site-packages/matplotlib/axes/_axes.py\u001b[0m in \u001b[0;36mbar\u001b[0;34m(self, x, height, width, bottom, align, **kwargs)\u001b[0m\n\u001b[1;32m   2249\u001b[0m         x, height, width, y, linewidth = np.broadcast_arrays(\n\u001b[1;32m   2250\u001b[0m             \u001b[0;31m# Make args iterable too.\u001b[0m\u001b[0;34m\u001b[0m\u001b[0;34m\u001b[0m\u001b[0;34m\u001b[0m\u001b[0m\n\u001b[0;32m-> 2251\u001b[0;31m             np.atleast_1d(x), height, width, y, linewidth)\n\u001b[0m\u001b[1;32m   2252\u001b[0m \u001b[0;34m\u001b[0m\u001b[0m\n\u001b[1;32m   2253\u001b[0m         \u001b[0;31m# Now that units have been converted, set the tick locations.\u001b[0m\u001b[0;34m\u001b[0m\u001b[0;34m\u001b[0m\u001b[0;34m\u001b[0m\u001b[0m\n",
      "\u001b[0;32m~/anaconda3/lib/python3.7/site-packages/numpy/lib/stride_tricks.py\u001b[0m in \u001b[0;36mbroadcast_arrays\u001b[0;34m(*args, **kwargs)\u001b[0m\n\u001b[1;32m    257\u001b[0m     \u001b[0margs\u001b[0m \u001b[0;34m=\u001b[0m \u001b[0;34m[\u001b[0m\u001b[0mnp\u001b[0m\u001b[0;34m.\u001b[0m\u001b[0marray\u001b[0m\u001b[0;34m(\u001b[0m\u001b[0m_m\u001b[0m\u001b[0;34m,\u001b[0m \u001b[0mcopy\u001b[0m\u001b[0;34m=\u001b[0m\u001b[0;32mFalse\u001b[0m\u001b[0;34m,\u001b[0m \u001b[0msubok\u001b[0m\u001b[0;34m=\u001b[0m\u001b[0msubok\u001b[0m\u001b[0;34m)\u001b[0m \u001b[0;32mfor\u001b[0m \u001b[0m_m\u001b[0m \u001b[0;32min\u001b[0m \u001b[0margs\u001b[0m\u001b[0;34m]\u001b[0m\u001b[0;34m\u001b[0m\u001b[0;34m\u001b[0m\u001b[0m\n\u001b[1;32m    258\u001b[0m \u001b[0;34m\u001b[0m\u001b[0m\n\u001b[0;32m--> 259\u001b[0;31m     \u001b[0mshape\u001b[0m \u001b[0;34m=\u001b[0m \u001b[0m_broadcast_shape\u001b[0m\u001b[0;34m(\u001b[0m\u001b[0;34m*\u001b[0m\u001b[0margs\u001b[0m\u001b[0;34m)\u001b[0m\u001b[0;34m\u001b[0m\u001b[0;34m\u001b[0m\u001b[0m\n\u001b[0m\u001b[1;32m    260\u001b[0m \u001b[0;34m\u001b[0m\u001b[0m\n\u001b[1;32m    261\u001b[0m     \u001b[0;32mif\u001b[0m \u001b[0mall\u001b[0m\u001b[0;34m(\u001b[0m\u001b[0marray\u001b[0m\u001b[0;34m.\u001b[0m\u001b[0mshape\u001b[0m \u001b[0;34m==\u001b[0m \u001b[0mshape\u001b[0m \u001b[0;32mfor\u001b[0m \u001b[0marray\u001b[0m \u001b[0;32min\u001b[0m \u001b[0margs\u001b[0m\u001b[0;34m)\u001b[0m\u001b[0;34m:\u001b[0m\u001b[0;34m\u001b[0m\u001b[0;34m\u001b[0m\u001b[0m\n",
      "\u001b[0;32m~/anaconda3/lib/python3.7/site-packages/numpy/lib/stride_tricks.py\u001b[0m in \u001b[0;36m_broadcast_shape\u001b[0;34m(*args)\u001b[0m\n\u001b[1;32m    191\u001b[0m     \u001b[0;31m# use the old-iterator because np.nditer does not handle size 0 arrays\u001b[0m\u001b[0;34m\u001b[0m\u001b[0;34m\u001b[0m\u001b[0;34m\u001b[0m\u001b[0m\n\u001b[1;32m    192\u001b[0m     \u001b[0;31m# consistently\u001b[0m\u001b[0;34m\u001b[0m\u001b[0;34m\u001b[0m\u001b[0;34m\u001b[0m\u001b[0m\n\u001b[0;32m--> 193\u001b[0;31m     \u001b[0mb\u001b[0m \u001b[0;34m=\u001b[0m \u001b[0mnp\u001b[0m\u001b[0;34m.\u001b[0m\u001b[0mbroadcast\u001b[0m\u001b[0;34m(\u001b[0m\u001b[0;34m*\u001b[0m\u001b[0margs\u001b[0m\u001b[0;34m[\u001b[0m\u001b[0;34m:\u001b[0m\u001b[0;36m32\u001b[0m\u001b[0;34m]\u001b[0m\u001b[0;34m)\u001b[0m\u001b[0;34m\u001b[0m\u001b[0;34m\u001b[0m\u001b[0m\n\u001b[0m\u001b[1;32m    194\u001b[0m     \u001b[0;31m# unfortunately, it cannot handle 32 or more arguments directly\u001b[0m\u001b[0;34m\u001b[0m\u001b[0;34m\u001b[0m\u001b[0;34m\u001b[0m\u001b[0m\n\u001b[1;32m    195\u001b[0m     \u001b[0;32mfor\u001b[0m \u001b[0mpos\u001b[0m \u001b[0;32min\u001b[0m \u001b[0mrange\u001b[0m\u001b[0;34m(\u001b[0m\u001b[0;36m32\u001b[0m\u001b[0;34m,\u001b[0m \u001b[0mlen\u001b[0m\u001b[0;34m(\u001b[0m\u001b[0margs\u001b[0m\u001b[0;34m)\u001b[0m\u001b[0;34m,\u001b[0m \u001b[0;36m31\u001b[0m\u001b[0;34m)\u001b[0m\u001b[0;34m:\u001b[0m\u001b[0;34m\u001b[0m\u001b[0;34m\u001b[0m\u001b[0m\n",
      "\u001b[0;31mValueError\u001b[0m: shape mismatch: objects cannot be broadcast to a single shape"
     ]
    },
    {
     "data": {
      "image/png": "[encoded data removed]",
      "text/plain": [
       "<Figure size 432x288 with 1 Axes>"
      ]
     },
     "metadata": {
      "needs_background": "light"
     },
     "output_type": "display_data"
    }
   ],
   "source": [
    "from pylab import *\n",
    "\n",
    "\n",
    "D=genes_graph(new_pop(pop))\n",
    "\n",
    "# A histogram\n",
    "fig, axes = plt.subplots()\n",
    "#1, 2, figsize=(12,4)\n",
    "s=0\n",
    "for (u,v) in D.items():\n",
    "    for k in v:\n",
    "        s = k\n",
    "    L.append(s)\n",
    "print(D)\n",
    "\n",
    "axes.bar([i for i in D],L,width=0.5)\n",
    "axes.set_title(\"update populations with migrations\")\n",
    "axes.set_ylim((0, 1000));"
   ]
  },
  {
   "cell_type": "code",
   "execution_count": null,
   "metadata": {},
   "outputs": [],
   "source": [
    "def change_allele_p(p_gene):\n",
    "    if randint(0,1000)==10:\n",
    "        for i in p_gene:\n",
    "            p_gene[i] += uniform(-0.1,0.1)\n",
    "            if p_gene[i]<0: \n",
    "                p_gene[i]=0\n",
    "    if randint(0,5000)==92:\n",
    "        for i in p_gene:\n",
    "            p_gene[i] += uniform(-0.3,0.3)\n",
    "            if p_gene[i]<0: \n",
    "                p_gene[i]=0\n",
    "    if randint(0,10000)==10:\n",
    "        for i in p_gene:\n",
    "            p_gene[i] = random()\n",
    "    return p_gene"
   ]
  },
  {
   "cell_type": "code",
   "execution_count": null,
   "metadata": {},
   "outputs": [],
   "source": []
  },
  {
   "cell_type": "code",
   "execution_count": null,
   "metadata": {},
   "outputs": [],
   "source": [
    "\n",
    "\n",
    "\n"
   ]
  },
  {
   "cell_type": "code",
   "execution_count": null,
   "metadata": {},
   "outputs": [],
   "source": [
    "def mutation(Code_genetique,Dominant):\n",
    "    Code_genetique.append(chr(ord(Code_genetique[-1])+1))\n",
    "    for i in Code_genetique:\n",
    "        if i not in Dominant:\n",
    "            L1=[]\n",
    "            for j in Code_genetique:\n",
    "                L1.append((j,choice(['dominant','recessif','neutre'])))\n",
    "            Dominant[i]=L1\n",
    "    for k in Code_genetique[0:-1]:\n",
    "        for l in Dominant[i]:\n",
    "            a,temp=l\n",
    "            if a==k:\n",
    "\n",
    "                if temp=='neutre':\n",
    "                    Dominant[k].append((Code_genetique[-1],'neutre'))\n",
    "                elif temp=='recessif':\n",
    "                    Dominant[k].append((Code_genetique[-1],'dominant'))\n",
    "                else:\n",
    "                    Dominant[k].append((Code_genetique[-1],'recessif'))\n",
    "    \n",
    "    new_probabilite(Dominant,p_gene,Code_genetique)\n",
    "    return Dominant"
   ]
  },
  {
   "cell_type": "code",
   "execution_count": null,
   "metadata": {},
   "outputs": [],
   "source": [
    "\n",
    "def new_probabilite(Dominant,p_gene,Code_genetique):\n",
    "    for i in Code_genetique:\n",
    "        if dominants([5,i,Code_genetique[-1]],Dominant) not in p_gene:\n",
    "            p_gene[dominants([5,i,Code_genetique[-1]],Dominant)]=random()\n",
    "    \n",
    "    return p_gene\n",
    "\n",
    "new_probabilite(Dominant,p_gene,Code_genetique)"
   ]
  },
  {
   "cell_type": "code",
   "execution_count": 1326,
   "metadata": {},
   "outputs": [
    {
     "ename": "NameError",
     "evalue": "name 'Di' is not defined",
     "output_type": "error",
     "traceback": [
      "\u001b[0;31m---------------------------------------------------------------------------\u001b[0m",
      "\u001b[0;31mNameError\u001b[0m                                 Traceback (most recent call last)",
      "\u001b[0;32m<ipython-input-1326-fcfe5583eb8d>\u001b[0m in \u001b[0;36m<module>\u001b[0;34m\u001b[0m\n\u001b[1;32m     13\u001b[0m     \u001b[0;32mreturn\u001b[0m \u001b[0mDi\u001b[0m\u001b[0;34m\u001b[0m\u001b[0;34m\u001b[0m\u001b[0m\n\u001b[1;32m     14\u001b[0m \u001b[0;34m\u001b[0m\u001b[0m\n\u001b[0;32m---> 15\u001b[0;31m \u001b[0mnombre_genes\u001b[0m\u001b[0;34m(\u001b[0m\u001b[0mpop\u001b[0m\u001b[0;34m,\u001b[0m\u001b[0;36m0\u001b[0m\u001b[0;34m,\u001b[0m\u001b[0mDi\u001b[0m\u001b[0;34m)\u001b[0m\u001b[0;34m\u001b[0m\u001b[0;34m\u001b[0m\u001b[0m\n\u001b[0m\u001b[1;32m     16\u001b[0m \u001b[0;34m\u001b[0m\u001b[0m\n",
      "\u001b[0;31mNameError\u001b[0m: name 'Di' is not defined"
     ]
    }
   ],
   "source": [
    "def nombre_genes(pop,i,Di):\n",
    "    for a in Di:\n",
    "            Di[a].append(0)\n",
    "    for j in pop:\n",
    "        if dominants(j,Dominant) in Di:\n",
    "            Di[dominants(j,Dominant)][-1]= Di[dominants(j,Dominant)][-1]+1\n",
    "            \n",
    "        else:\n",
    "            Di[dominants(j,Dominant)]= []\n",
    "            for k in range(i):\n",
    "                Di[dominants(j,Dominant)].append(0)\n",
    "            Di[dominants(j,Dominant)].append(1)\n",
    "    return Di\n",
    "\n",
    "nombre_genes(pop,0,Di)\n",
    " "
   ]
  },
  {
   "cell_type": "code",
   "execution_count": 1328,
   "metadata": {},
   "outputs": [
    {
     "data": {
      "text/plain": [
       "([], {}, 0)"
      ]
     },
     "execution_count": 1328,
     "metadata": {},
     "output_type": "execute_result"
    }
   ],
   "source": [
    "def new_pop_ans(n,pop):\n",
    "    Di=dict()\n",
    "    pop_max=0\n",
    "    for i in range(n):\n",
    "        pop=new_pop(pop)\n",
    "        for j in pop:\n",
    "            j[0]=j[0]+1\n",
    "        nombre_genes(pop,i,Di)\n",
    "        change_allele_p(p_gene)\n",
    "        if len(pop)>pop_max:\n",
    "            pop_max=len(pop)\n",
    "            \n",
    "    return (pop,Di,pop_max)\n",
    "\n",
    "new_pop_ans(20,pop)"
   ]
  },
  {
   "cell_type": "code",
   "execution_count": null,
   "metadata": {},
   "outputs": [],
   "source": []
  },
  {
   "cell_type": "code",
   "execution_count": null,
   "metadata": {},
   "outputs": [],
   "source": []
  },
  {
   "cell_type": "code",
   "execution_count": null,
   "metadata": {},
   "outputs": [],
   "source": []
  },
  {
   "cell_type": "code",
   "execution_count": null,
   "metadata": {},
   "outputs": [],
   "source": []
  }
 ],
 "metadata": {
  "kernelspec": {
   "display_name": "Python 3",
   "language": "python",
   "name": "python3"
  },
  "language_info": {
   "codemirror_mode": {
    "name": "ipython",
    "version": 3
   },
   "file_extension": ".py",
   "mimetype": "text/x-python",
   "name": "python",
   "nbconvert_exporter": "python",
   "pygments_lexer": "ipython3",
   "version": "3.7.3"
  }
 },
 "nbformat": 4,
 "nbformat_minor": 2
}
