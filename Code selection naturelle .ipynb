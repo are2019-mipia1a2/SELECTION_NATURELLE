{
 "cells": [
  {
   "cell_type": "code",
   "execution_count": 31,
   "metadata": {},
   "outputs": [
    {
     "data": {
      "text/plain": [
       "[[7, 'C', 'A'],\n",
       " [6, 'B', 'B'],\n",
       " [5, 'A', 'C'],\n",
       " [1, 'A', 'C'],\n",
       " [6, 'A', 'A'],\n",
       " [5, 'C', 'A'],\n",
       " [9, 'C', 'A'],\n",
       " [9, 'B', 'C'],\n",
       " [9, 'C', 'A'],\n",
       " [4, 'A', 'C'],\n",
       " [1, 'A', 'C'],\n",
       " [3, 'B', 'B'],\n",
       " [1, 'B', 'A'],\n",
       " [1, 'A', 'C'],\n",
       " [5, 'B', 'C'],\n",
       " [6, 'C', 'A'],\n",
       " [10, 'B', 'B'],\n",
       " [7, 'C', 'B'],\n",
       " [1, 'C', 'C'],\n",
       " [5, 'C', 'A'],\n",
       " [6, 'A', 'C'],\n",
       " [1, 'A', 'B'],\n",
       " [10, 'C', 'A'],\n",
       " [7, 'B', 'B'],\n",
       " [4, 'A', 'C'],\n",
       " [1, 'C', 'B'],\n",
       " [10, 'C', 'C'],\n",
       " [0, 'C', 'A'],\n",
       " [6, 'A', 'B'],\n",
       " [6, 'A', 'A'],\n",
       " [2, 'A', 'B'],\n",
       " [0, 'C', 'A'],\n",
       " [1, 'C', 'C'],\n",
       " [3, 'C', 'C'],\n",
       " [10, 'B', 'C'],\n",
       " [7, 'A', 'A'],\n",
       " [10, 'C', 'C'],\n",
       " [10, 'B', 'A'],\n",
       " [6, 'C', 'B'],\n",
       " [4, 'C', 'C'],\n",
       " [3, 'B', 'A'],\n",
       " [1, 'B', 'C'],\n",
       " [9, 'C', 'B'],\n",
       " [8, 'C', 'C'],\n",
       " [3, 'A', 'B'],\n",
       " [2, 'A', 'B'],\n",
       " [9, 'B', 'A'],\n",
       " [2, 'A', 'A'],\n",
       " [0, 'A', 'B'],\n",
       " [8, 'B', 'A']]"
      ]
     },
     "execution_count": 31,
     "metadata": {},
     "output_type": "execute_result"
    }
   ],
   "source": [
    "from random import *  \n",
    "\n",
    "import matplotlib.pyplot as plt\n",
    "import numpy as np\n",
    "from matplotlib import animation\n",
    "\n",
    "Code_genetique = ['A','B','C']\n",
    "\n",
    "Dominant = {'C':[('A','recessif'),('B','recessif'),('C','dominant')],'A':[('A','dominant'),('B','neutre'),('C','dominant')],'B':[('B','dominant'),('A','neutre'),('C','dominant')]}\n",
    "\n",
    "def population_initiale(Code_genetique,Esperence_vie,nb):\n",
    "    \n",
    "    pop=[]\n",
    "    for i in range(nb):\n",
    "        pop.append([randint(0,Esperence_vie),choice(Code_genetique),choice(Code_genetique)])\n",
    "    \n",
    "    return pop\n",
    "    \n",
    "pop=population_initiale(Code_genetique,10,50)\n",
    "population_initiale(Code_genetique,10,50)"
   ]
  },
  {
   "cell_type": "code",
   "execution_count": 32,
   "metadata": {},
   "outputs": [
    {
     "data": {
      "text/plain": [
       "'AB'"
      ]
     },
     "execution_count": 32,
     "metadata": {},
     "output_type": "execute_result"
    }
   ],
   "source": [
    "individu=[7, 'A', 'B']\n",
    "\n",
    "def dominants(individu,Dominant):\n",
    "    allele1=individu[1]\n",
    "    allele2=individu[2]\n",
    "    for i in Dominant[allele1]:\n",
    "        allele,prio=i\n",
    "        if allele==allele2:\n",
    "            if prio=='dominant':\n",
    "                return allele1\n",
    "            elif prio=='recessif':\n",
    "                return allele2\n",
    "            else:\n",
    "                if allele1==allele2:\n",
    "                    return allele1\n",
    "                elif allele1<allele2:\n",
    "                    return allele1 + allele2\n",
    "                else : \n",
    "                    return allele2 + allele1\n",
    "\n",
    "dominants(individu,Dominant)\n"
   ]
  },
  {
   "cell_type": "code",
   "execution_count": 33,
   "metadata": {},
   "outputs": [],
   "source": [
    "p_gene = {'A':0.2,'B':0.1,'C':0.2,'AB':0.1}\n",
    "p_age = {0:0.5,1:0.4,2:0.3,3:0.2,4:0.1,5:0.2,6:0.4,7:0.6,8:0.8,9:1,10:1,11:1,12:1,13:1.2,14:1.4,15:1.5,16:2.0}\n",
    "\n",
    "def survie(p_gene,p_age,p):\n",
    "    i=0\n",
    "    while i<len(pop):\n",
    "        age=pop[i][0]\n",
    "        gene=dominants(pop[i],Dominant)\n",
    "        if (p_age[age]+p_gene[gene])/2>random():\n",
    "            del pop[i]\n",
    "        else:\n",
    "            i=i+1\n",
    "    return pop\n"
   ]
  },
  {
   "cell_type": "code",
   "execution_count": 34,
   "metadata": {},
   "outputs": [],
   "source": [
    "Ind1 = [5, 'B', 'A']\n",
    "Ind2 = [9, 'A', 'C']\n",
    "\n",
    "def caracteristque_enfant(ind1,ind2):\n",
    "    if randint(0,1000)==27:\n",
    "        mutation(Code_genetique,Dominant)\n",
    "        return[0,choice(ind1[1:3]),Code_genetique[-1]]\n",
    "    return[0,choice(ind1[1:3]),choice(ind2[1:3])]\n",
    "\n",
    "#caracteristque_enfant(Ind1,Ind2)\n",
    "\n",
    "\n"
   ]
  },
  {
   "cell_type": "code",
   "execution_count": 35,
   "metadata": {},
   "outputs": [],
   "source": [
    "p_descendant = {0 : 0.05,\n",
    "     1 : 0.05,\n",
    "     2 : 0.05,\n",
    "     3 : 0.15,\n",
    "     4 : 0.2,\n",
    "     5 : 0.25,\n",
    "     6 : 0.3}\n",
    "\n",
    "def nombre_de_descendant(p):\n",
    "    j=random()\n",
    "    k=0\n",
    "    \n",
    "    for i in p_descendant.keys():\n",
    "        k+=p_descendant[i]\n",
    "        if j <= k:\n",
    "            return i"
   ]
  },
  {
   "cell_type": "code",
   "execution_count": 36,
   "metadata": {},
   "outputs": [],
   "source": [
    "def new_pop(pop):\n",
    "    pop=survie(p_gene,p_age,pop)\n",
    "    new_pop=[]\n",
    "    i=0\n",
    "    while i<len(pop):\n",
    "        if pop[i][0]<=2:\n",
    "            new_pop.append(pop[i])\n",
    "            del pop[i]\n",
    "        else:\n",
    "            i=i+1\n",
    "            \n",
    "    while len(pop)>2:\n",
    "        a=0\n",
    "        b=0\n",
    "        while a==b:\n",
    "            a=randint(0,len(pop)-1)\n",
    "            b=randint(0,len(pop)-1)\n",
    "        for j in range(nombre_de_descendant(p_descendant)):\n",
    "            new_pop.append(caracteristque_enfant(pop[a],pop[b]))\n",
    "        new_pop.append(pop[a])\n",
    "        new_pop.append(pop[b])\n",
    "        del pop[a]\n",
    "        if a<b:\n",
    "            del pop[b-1]\n",
    "        else:\n",
    "            del pop[b]\n",
    "    \n",
    "    return new_pop"
   ]
  },
  {
   "cell_type": "code",
   "execution_count": 37,
   "metadata": {},
   "outputs": [
    {
     "data": {
      "text/plain": [
       "{'AB': 19, 'C': 11, 'B': 21, 'A': 31}"
      ]
     },
     "execution_count": 37,
     "metadata": {},
     "output_type": "execute_result"
    }
   ],
   "source": [
    "def genes_graph(pop2):\n",
    "    \n",
    "    D1=dict()\n",
    "    for i in pop2:\n",
    "        if dominants(i,Dominant) not in D1:\n",
    "            D1[dominants(i,Dominant)] = 1\n",
    "\n",
    "        else:\n",
    "            D1[dominants(i,Dominant)] = D1[dominants(i,Dominant)] + 1\n",
    "    return D1\n",
    "\n",
    "genes_graph(new_pop(pop))"
   ]
  },
  {
   "cell_type": "code",
   "execution_count": 48,
   "metadata": {},
   "outputs": [
    {
     "name": "stdout",
     "output_type": "stream",
     "text": [
      "{}\n"
     ]
    },
    {
     "data": {
      "image/png": "[encoded data removed]",
      "text/plain": [
       "<Figure size 432x288 with 1 Axes>"
      ]
     },
     "metadata": {
      "needs_background": "light"
     },
     "output_type": "display_data"
    }
   ],
   "source": [
    "from pylab import *\n",
    "\n",
    "\n",
    "D=genes_graph(new_pop(pop))\n",
    "print(D)\n",
    "# A histogram\n",
    "fig, axes = plt.subplots()\n",
    "#1, 2, figsize=(12,4)\n",
    "\n",
    "axes.bar([i for i in D],[D[j] for j in D],width=0.5)\n",
    "axes.set_title(\"nouvelle population\")\n",
    "axes.set_ylim((0, 50));"
   ]
  },
  {
   "cell_type": "code",
   "execution_count": 39,
   "metadata": {},
   "outputs": [],
   "source": [
    "def change_allele_p(p_gene):\n",
    "    if randint(0,1000)==10:\n",
    "        for i in p_gene:\n",
    "            p_gene[i] += uniform(-0.1,0.1)\n",
    "            if p_gene[i]<0: \n",
    "                p_gene[i]=0\n",
    "    if randint(0,5000)==92:\n",
    "        for i in p_gene:\n",
    "            p_gene[i] += uniform(-0.3,0.3)\n",
    "            if p_gene[i]<0: \n",
    "                p_gene[i]=0\n",
    "    if randint(0,10000)==10:\n",
    "        for i in p_gene:\n",
    "            p_gene[i] = random()\n",
    "    return p_gene"
   ]
  },
  {
   "cell_type": "code",
   "execution_count": null,
   "metadata": {},
   "outputs": [],
   "source": []
  },
  {
   "cell_type": "code",
   "execution_count": null,
   "metadata": {},
   "outputs": [],
   "source": [
    "\n",
    "\n",
    "\n"
   ]
  },
  {
   "cell_type": "code",
   "execution_count": 40,
   "metadata": {},
   "outputs": [],
   "source": [
    "def mutation(Code_genetique,Dominant):\n",
    "    Code_genetique.append(chr(ord(Code_genetique[-1])+1))\n",
    "    for i in Code_genetique:\n",
    "        if i not in Dominant:\n",
    "            L1=[]\n",
    "            for j in Code_genetique:\n",
    "                L1.append((j,choice(['dominant','recessif','neutre'])))\n",
    "            Dominant[i]=L1\n",
    "    for k in Code_genetique[0:-1]:\n",
    "        for l in Dominant[i]:\n",
    "            a,temp=l\n",
    "            if a==k:\n",
    "\n",
    "                if temp=='neutre':\n",
    "                    Dominant[k].append((Code_genetique[-1],'neutre'))\n",
    "                elif temp=='recessif':\n",
    "                    Dominant[k].append((Code_genetique[-1],'dominant'))\n",
    "                else:\n",
    "                    Dominant[k].append((Code_genetique[-1],'recessif'))\n",
    "    \n",
    "    new_probabilite(Dominant,p_gene,Code_genetique)\n",
    "    return Dominant"
   ]
  },
  {
   "cell_type": "code",
   "execution_count": 41,
   "metadata": {},
   "outputs": [
    {
     "data": {
      "text/plain": [
       "{'A': 0.2, 'B': 0.1, 'C': 0.2, 'AB': 0.1}"
      ]
     },
     "execution_count": 41,
     "metadata": {},
     "output_type": "execute_result"
    }
   ],
   "source": [
    "\n",
    "def new_probabilite(Dominant,p_gene,Code_genetique):\n",
    "    for i in Code_genetique:\n",
    "        if dominants([5,i,Code_genetique[-1]],Dominant) not in p_gene:\n",
    "            p_gene[dominants([5,i,Code_genetique[-1]],Dominant)]=random()\n",
    "    \n",
    "    return p_gene\n",
    "\n",
    "new_probabilite(Dominant,p_gene,Code_genetique)"
   ]
  },
  {
   "cell_type": "code",
   "execution_count": 42,
   "metadata": {},
   "outputs": [
    {
     "ename": "NameError",
     "evalue": "name 'Di' is not defined",
     "output_type": "error",
     "traceback": [
      "\u001b[0;31m---------------------------------------------------------------------------\u001b[0m",
      "\u001b[0;31mNameError\u001b[0m                                 Traceback (most recent call last)",
      "\u001b[0;32m<ipython-input-42-fcfe5583eb8d>\u001b[0m in \u001b[0;36m<module>\u001b[0;34m\u001b[0m\n\u001b[1;32m     13\u001b[0m     \u001b[0;32mreturn\u001b[0m \u001b[0mDi\u001b[0m\u001b[0;34m\u001b[0m\u001b[0;34m\u001b[0m\u001b[0m\n\u001b[1;32m     14\u001b[0m \u001b[0;34m\u001b[0m\u001b[0m\n\u001b[0;32m---> 15\u001b[0;31m \u001b[0mnombre_genes\u001b[0m\u001b[0;34m(\u001b[0m\u001b[0mpop\u001b[0m\u001b[0;34m,\u001b[0m\u001b[0;36m0\u001b[0m\u001b[0;34m,\u001b[0m\u001b[0mDi\u001b[0m\u001b[0;34m)\u001b[0m\u001b[0;34m\u001b[0m\u001b[0;34m\u001b[0m\u001b[0m\n\u001b[0m\u001b[1;32m     16\u001b[0m \u001b[0;34m\u001b[0m\u001b[0m\n",
      "\u001b[0;31mNameError\u001b[0m: name 'Di' is not defined"
     ]
    }
   ],
   "source": [
    "def nombre_genes(pop,i,Di):\n",
    "    for a in Di:\n",
    "            Di[a].append(0)\n",
    "    for j in pop:\n",
    "        if dominants(j,Dominant) in Di:\n",
    "            Di[dominants(j,Dominant)][-1]= Di[dominants(j,Dominant)][-1]+1\n",
    "            \n",
    "        else:\n",
    "            Di[dominants(j,Dominant)]= []\n",
    "            for k in range(i):\n",
    "                Di[dominants(j,Dominant)].append(0)\n",
    "            Di[dominants(j,Dominant)].append(1)\n",
    "    return Di\n",
    "\n",
    "nombre_genes(pop,0,Di)\n",
    " "
   ]
  },
  {
   "cell_type": "code",
   "execution_count": 44,
   "metadata": {},
   "outputs": [
    {
     "data": {
      "text/plain": [
       "([], {}, 0)"
      ]
     },
     "execution_count": 44,
     "metadata": {},
     "output_type": "execute_result"
    }
   ],
   "source": [
    "def new_pop_ans(n,pop):\n",
    "    Di=dict()\n",
    "    pop_max=0\n",
    "    for i in range(n):\n",
    "        pop=new_pop(pop)\n",
    "        for j in pop:\n",
    "            j[0]=j[0]+1\n",
    "        nombre_genes(pop,i,Di)\n",
    "        change_allele_p(p_gene)\n",
    "        if len(pop)>pop_max:\n",
    "            pop_max=len(pop)\n",
    "            \n",
    "    return (pop,Di,pop_max)\n",
    "\n",
    "new_pop_ans(20,pop)"
   ]
  },
  {
   "cell_type": "code",
   "execution_count": null,
   "metadata": {},
   "outputs": [],
   "source": []
  },
  {
   "cell_type": "code",
   "execution_count": null,
   "metadata": {},
   "outputs": [],
   "source": []
  },
  {
   "cell_type": "code",
   "execution_count": null,
   "metadata": {},
   "outputs": [],
   "source": []
  },
  {
   "cell_type": "code",
   "execution_count": null,
   "metadata": {},
   "outputs": [],
   "source": []
  }
 ],
 "metadata": {
  "kernelspec": {
   "display_name": "Python 3",
   "language": "python",
   "name": "python3"
  },
  "language_info": {
   "codemirror_mode": {
    "name": "ipython",
    "version": 3
   },
   "file_extension": ".py",
   "mimetype": "text/x-python",
   "name": "python",
   "nbconvert_exporter": "python",
   "pygments_lexer": "ipython3",
   "version": "3.7.3"
  }
 },
 "nbformat": 4,
 "nbformat_minor": 2
}
