{
 "cells": [
  {
   "cell_type": "code",
   "execution_count": 26,
   "metadata": {},
   "outputs": [
    {
     "data": {
      "text/plain": [
       "[(7, 'A', 'B'),\n",
       " (7, 'O', 'O'),\n",
       " (2, 'O', 'O'),\n",
       " (7, 'B', 'B'),\n",
       " (4, 'B', 'B'),\n",
       " (1, 'A', 'O'),\n",
       " (0, 'O', 'B'),\n",
       " (9, 'A', 'A'),\n",
       " (7, 'B', 'A'),\n",
       " (8, 'B', 'B'),\n",
       " (3, 'B', 'O'),\n",
       " (1, 'B', 'A'),\n",
       " (4, 'A', 'O'),\n",
       " (9, 'O', 'A'),\n",
       " (5, 'O', 'O'),\n",
       " (5, 'B', 'B'),\n",
       " (8, 'A', 'A'),\n",
       " (9, 'A', 'O'),\n",
       " (7, 'B', 'A'),\n",
       " (3, 'A', 'B')]"
      ]
     },
     "execution_count": 26,
     "metadata": {},
     "output_type": "execute_result"
    }
   ],
   "source": [
    "from random import *\n",
    "\n",
    "Code_genetique = ['A','B','O']\n",
    "\n",
    "Dominant= {'O':[{'O'}],'A':[{'O','A'},{'A'}],'B':[{'O','B'},{'B'}],'AB':[{'A','B'}]}\n",
    "\n",
    "def population_initiale(Code_genetique,Esperence_vie,nb):\n",
    "    \n",
    "    pop=[]\n",
    "    for i in range(nb):\n",
    "        age= randint(0,Esperence_vie)\n",
    "        Allele1=choice(Code_genetique)\n",
    "        Allele2=choice(Code_genetique)\n",
    "        pop.append((age,Allele1,Allele2))\n",
    "    \n",
    "    return pop\n",
    "    \n",
    "population_initiale(Code_genetique,10,20)\n",
    "    "
   ]
  },
  {
   "cell_type": "code",
   "execution_count": 28,
   "metadata": {},
   "outputs": [
    {
     "data": {
      "text/plain": [
       "['AB']"
      ]
     },
     "execution_count": 28,
     "metadata": {},
     "output_type": "execute_result"
    }
   ],
   "source": [
    "individu=(7, 'A', 'B')\n",
    "age,Allele1,Allele2=individu\n",
    "\n",
    "def dominants(individu,Dominant):\n",
    "    gene={Allele1,Allele2}\n",
    "    return [i for i in Dominant if gene in Dominant[i]]\n",
    "    \n",
    "    \n",
    "dominants(individu,Dominant)       "
   ]
  },
  {
   "cell_type": "code",
   "execution_count": null,
   "metadata": {},
   "outputs": [],
   "source": [
    "p_gene = {'A':0.9,'B':0.7,'O':0.8}\n",
    "p_age = {1:0.1,2:0.2,3:0.3,4:0.4,5:0.5,6:0.6,7:0.7,8:0.8,9:0.9,10:1}\n"
   ]
  }
 ],
 "metadata": {
  "kernelspec": {
   "display_name": "Python 3",
   "language": "python",
   "name": "python3"
  },
  "language_info": {
   "codemirror_mode": {
    "name": "ipython",
    "version": 3
   },
   "file_extension": ".py",
   "mimetype": "text/x-python",
   "name": "python",
   "nbconvert_exporter": "python",
   "pygments_lexer": "ipython3",
   "version": "3.5.3"
  }
 },
 "nbformat": 4,
 "nbformat_minor": 2
}
