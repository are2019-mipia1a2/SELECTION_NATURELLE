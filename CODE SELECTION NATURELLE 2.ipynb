{
 "cells": [
  {
   "cell_type": "code",
   "execution_count": 1273,
   "metadata": {},
   "outputs": [
    {
     "data": {
      "text/plain": [
       "[[5, 'B', 'B'],\n",
       " [5, 'A', 'A'],\n",
       " [9, 'C', 'B'],\n",
       " [1, 'A', 'B'],\n",
       " [4, 'B', 'A'],\n",
       " [9, 'C', 'C'],\n",
       " [3, 'B', 'B'],\n",
       " [5, 'C', 'C'],\n",
       " [2, 'C', 'A'],\n",
       " [10, 'C', 'C'],\n",
       " [7, 'C', 'B'],\n",
       " [10, 'C', 'C'],\n",
       " [1, 'B', 'C'],\n",
       " [0, 'A', 'A'],\n",
       " [7, 'B', 'C'],\n",
       " [5, 'A', 'B'],\n",
       " [3, 'C', 'A'],\n",
       " [7, 'B', 'C'],\n",
       " [5, 'A', 'C'],\n",
       " [2, 'A', 'A']]"
      ]
     },
     "execution_count": 1273,
     "metadata": {},
     "output_type": "execute_result"
    }
   ],
   "source": [
    "from random import *  \n",
    "\n",
    "import matplotlib.pyplot as plt\n",
    "import numpy as np\n",
    "from matplotlib import animation\n",
    "\n",
    "Code_genetique = ['A','B','C']\n",
    "\n",
    "Dominant = {'C':[('A','recessif'),('B','recessif'),('C','dominant')],'A':[('A','dominant'),('B','neutre'),('C','dominant')],'B':[('B','dominant'),('A','neutre'),('C','dominant')]}\n",
    "\n",
    "def population_initiale(Code_genetique,Esperence_vie,nb):\n",
    "    \n",
    "    pop=[]\n",
    "    for i in range(nb):\n",
    "        pop.append([randint(0,Esperence_vie),choice(Code_genetique),choice(Code_genetique)])\n",
    "    \n",
    "    return pop\n",
    "    \n",
    "pop=population_initiale(Code_genetique,10,20)\n",
    "population_initiale(Code_genetique,10,20)"
   ]
  },
  {
   "cell_type": "code",
   "execution_count": 1274,
   "metadata": {},
   "outputs": [],
   "source": [
    "individu=[7, 'A', 'A']\n",
    "\n",
    "def dominants(individu,Dominant):\n",
    "    allele1=individu[1]\n",
    "    allele2=individu[2]\n",
    "    for i in Dominant[allele1]:\n",
    "        allele,prio=i\n",
    "        if allele==allele2:\n",
    "            if prio=='dominant':\n",
    "                return allele1\n",
    "            elif prio=='recessif':\n",
    "                return allele2\n",
    "            else:\n",
    "                if allele1==allele2:\n",
    "                    return allele1\n",
    "                elif allele1<allele2:\n",
    "                    return allele1 + allele2\n",
    "                else : \n",
    "                    return allele2 + allele1\n",
    "\n",
    "#dominants(individu,Dominant)"
   ]
  },
  {
   "cell_type": "code",
   "execution_count": 1275,
   "metadata": {},
   "outputs": [],
   "source": [
    "p_gene = {'A':0.1,'B':0.2,'C':0.1,'AB':0.1}\n",
    "p_age = {0:0.5,1:0.3,2:0.2,3:0.3,4:0.4,5:0.5,6:0.6,7:0.7,8:0.8,9:1,10:2}\n",
    "\n",
    "def survie(p_gene,p_age,pop):\n",
    "    i=0\n",
    "    while i<len(pop):\n",
    "        age=pop[i][0]\n",
    "        gene=dominants(pop[i],Dominant)\n",
    "        if (p_age[age]+p_gene[gene])/2>random():\n",
    "            del pop[i]\n",
    "        else:\n",
    "            i=i+1\n",
    "    return pop\n",
    "\n",
    "#survie(p_gene,p_age,pop)"
   ]
  },
  {
   "cell_type": "code",
   "execution_count": 1276,
   "metadata": {},
   "outputs": [],
   "source": [
    "def caracteristque_enfant(ind1,ind2):\n",
    "    if randint(0,100)==27:\n",
    "        mutation(Code_genetique,Dominant)\n",
    "        return[0,choice(ind1[1:3]),Code_genetique[-1]]\n",
    "    return[0,choice(ind1[1:3]),choice(ind1[1:3])]"
   ]
  },
  {
   "cell_type": "code",
   "execution_count": 1277,
   "metadata": {},
   "outputs": [],
   "source": [
    "p_descendant = {0 : 0.08,\n",
    "     1 : 0.02,\n",
    "     2 : 0.1,\n",
    "     3 : 0.2,\n",
    "     4 : 0.3,\n",
    "     5 : 0.3}\n",
    "\n",
    "def nombre_de_descendant(p):\n",
    "    j=random()\n",
    "    k=0\n",
    "    \n",
    "    for i in p_descendant.keys():\n",
    "        k+=p_descendant[i]\n",
    "        if j <= k:\n",
    "            return i\n",
    "#nombre_de_descendant(p_descendant)\n"
   ]
  },
  {
   "cell_type": "code",
   "execution_count": 1278,
   "metadata": {},
   "outputs": [],
   "source": [
    "def new_pop(pop):\n",
    "    pop=survie(p_gene,p_age,pop)\n",
    "    new_pop=[]\n",
    "    i=0\n",
    "    while i<len(pop):\n",
    "        if pop[i][0]<=2:\n",
    "            new_pop.append(pop[i])\n",
    "            del pop[i]\n",
    "        else:\n",
    "            i=i+1\n",
    "            \n",
    "    while len(pop)>2:\n",
    "        a=0\n",
    "        b=0\n",
    "        while a==b:\n",
    "            a=randint(0,len(pop)-1)\n",
    "            b=randint(0,len(pop)-1)\n",
    "        for j in range(nombre_de_descendant(p_descendant)):\n",
    "            new_pop.append(caracteristque_enfant(pop[a],pop[b]))\n",
    "        new_pop.append(pop[a])\n",
    "        new_pop.append(pop[b])\n",
    "        del pop[a]\n",
    "        if a<b:\n",
    "            del pop[b-1]\n",
    "        else:\n",
    "            del pop[b]\n",
    "    \n",
    "    return new_pop"
   ]
  },
  {
   "cell_type": "code",
   "execution_count": 1279,
   "metadata": {},
   "outputs": [],
   "source": [
    "def change_allele_p(p_gene):\n",
    "    if randint(0,50)==10:\n",
    "        for i in p_gene:\n",
    "            p_gene[i] += uniform(-0.1,0.1)\n",
    "    if randint(0,200)==92:\n",
    "        for i in p_gene:\n",
    "            p_gene[i] += uniform(-0.3,0.3)\n",
    "    if randint(0,1000)==10:\n",
    "        for i in p_gene:\n",
    "            p_gene[i] = random()\n",
    "    return p_gene\n",
    "            \n",
    "    \n",
    "#change_allele_p(p_gene)   \n",
    "    "
   ]
  },
  {
   "cell_type": "code",
   "execution_count": 1280,
   "metadata": {},
   "outputs": [],
   "source": [
    "def mutation(Code_genetique,Dominant):\n",
    "    Code_genetique.append(chr(ord(Code_genetique[-1])+1))\n",
    "    for i in Code_genetique:\n",
    "        if i not in Dominant:\n",
    "            L1=[]\n",
    "            for j in Code_genetique:\n",
    "                L1.append((j,choice(['dominant','recessif','neutre'])))\n",
    "            Dominant[i]=L1\n",
    "    for k in Code_genetique[0:-1]:\n",
    "        for l in Dominant[i]:\n",
    "            a,temp=l\n",
    "            if a==k:\n",
    "                if temp=='neutre':\n",
    "                    Dominant[k].append((Code_genetique[-1],'neutre'))\n",
    "                elif temp=='recessif':\n",
    "                    Dominant[k].append((Code_genetique[-1],'dominant'))\n",
    "                else:\n",
    "                    Dominant[k].append((Code_genetique[-1],'recessif'))\n",
    "    \n",
    "    new_probabilite(Dominant,p_gene,Code_genetique)\n",
    "    return Dominant\n",
    "                    \n",
    "#mutation(Code_genetique,Dominant)\n",
    "\n",
    "\n",
    "        "
   ]
  },
  {
   "cell_type": "code",
   "execution_count": null,
   "metadata": {},
   "outputs": [],
   "source": []
  },
  {
   "cell_type": "code",
   "execution_count": 1281,
   "metadata": {},
   "outputs": [],
   "source": [
    "def new_probabilite(Dominant,p_gene,Code_genetique):\n",
    "    for i in Code_genetique:\n",
    "        p_gene[dominants([5,i,Code_genetique[-1]],Dominant)]=random()\n",
    "    \n",
    "    return p_gene\n",
    "\n",
    "\n"
   ]
  },
  {
   "cell_type": "code",
   "execution_count": null,
   "metadata": {},
   "outputs": [],
   "source": []
  },
  {
   "cell_type": "code",
   "execution_count": 1282,
   "metadata": {},
   "outputs": [],
   "source": [
    "def nombre_genes(pop,i,Di):\n",
    "    for a in Di:\n",
    "            Di[a].append(0)\n",
    "    for j in pop:\n",
    "        if dominants(j,Dominant) in Di:\n",
    "            Di[dominants(j,Dominant)][-1]= Di[dominants(j,Dominant)][-1]+1\n",
    "            \n",
    "        else:\n",
    "            Di[dominants(j,Dominant)]= []\n",
    "            for k in range(i):\n",
    "                Di[dominants(j,Dominant)].append(0)\n",
    "            Di[dominants(j,Dominant)].append(1)\n",
    "    return Di\n",
    "\n",
    "#nombre_genes(pop,0,Di)"
   ]
  },
  {
   "cell_type": "code",
   "execution_count": null,
   "metadata": {},
   "outputs": [],
   "source": []
  },
  {
   "cell_type": "code",
   "execution_count": 1283,
   "metadata": {},
   "outputs": [],
   "source": [
    "def new_pop_ans(n,pop):\n",
    "    Di=dict()\n",
    "    pop_max=0\n",
    "    for i in range(n):\n",
    "        pop=new_pop(pop)\n",
    "        for j in pop:\n",
    "            j[0]=j[0]+1\n",
    "        nombre_genes(pop,i,Di)\n",
    "        change_allele_p(p_gene)\n",
    "        if len(pop)>pop_max:\n",
    "            pop_max=len(pop)\n",
    "            \n",
    "    return (pop,Di,pop_max)\n",
    "\n",
    "#new_pop_ans(20,pop)"
   ]
  },
  {
   "cell_type": "code",
   "execution_count": null,
   "metadata": {},
   "outputs": [],
   "source": []
  },
  {
   "cell_type": "code",
   "execution_count": 1284,
   "metadata": {
    "scrolled": true
   },
   "outputs": [],
   "source": [
    "#pop,Di=new_pop_ans(20,pop)\n",
    "\n",
    "#plt.plot([2,5,6,9],[50,20,30,48])\n",
    "#plt.plot([i for i in range (len(Di['A']))],Di['A'])\n",
    "#plt.axis([0,20,0,100])\n",
    "#plt.show()"
   ]
  },
  {
   "cell_type": "code",
   "execution_count": 1285,
   "metadata": {},
   "outputs": [
    {
     "data": {
      "image/png": "[encoded data removed]",
      "text/plain": [
       "<Figure size 432x288 with 1 Axes>"
      ]
     },
     "metadata": {},
     "output_type": "display_data"
    }
   ],
   "source": [
    "pop,Di,pop_max=new_pop_ans(80,pop)\n",
    "\n",
    "#plt.plot([2,5,6,9],[50,20,30,48])\n",
    "for i in Di:\n",
    "    b=False\n",
    "    for a in Di[i]:\n",
    "        if a>10:\n",
    "            b=True\n",
    "    if b:\n",
    "        plt.plot([j for j in range (len(Di[i]))],Di[i],label=i+':'+str(p_gene[i]))\n",
    "plt.axis([0,80,0,pop_max])\n",
    "plt.legend(bbox_to_anchor=(1.05, 1), loc=2, borderaxespad=0.)\n",
    "plt.show()"
   ]
  },
  {
   "cell_type": "code",
   "execution_count": null,
   "metadata": {},
   "outputs": [],
   "source": []
  },
  {
   "cell_type": "code",
   "execution_count": null,
   "metadata": {},
   "outputs": [],
   "source": []
  }
 ],
 "metadata": {
  "kernelspec": {
   "display_name": "Python 3",
   "language": "python",
   "name": "python3"
  },
  "language_info": {
   "codemirror_mode": {
    "name": "ipython",
    "version": 3
   },
   "file_extension": ".py",
   "mimetype": "text/x-python",
   "name": "python",
   "nbconvert_exporter": "python",
   "pygments_lexer": "ipython3",
   "version": "3.5.3"
  }
 },
 "nbformat": 4,
 "nbformat_minor": 2
}
